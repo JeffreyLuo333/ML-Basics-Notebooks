{
  "nbformat": 4,
  "nbformat_minor": 0,
  "metadata": {
    "colab": {
      "provenance": [],
      "include_colab_link": true
    },
    "kernelspec": {
      "name": "python3",
      "display_name": "Python 3"
    },
    "accelerator": "GPU"
  },
  "cells": [
    {
      "cell_type": "markdown",
      "metadata": {
        "id": "view-in-github",
        "colab_type": "text"
      },
      "source": [
        "<a href=\"https://colab.research.google.com/github/JeffreyLuo333/ML-Notebooks/blob/main/Neural_Networks.ipynb\" target=\"_parent\"><img src=\"https://colab.research.google.com/assets/colab-badge.svg\" alt=\"Open In Colab\"/></a>"
      ]
    },
    {
      "cell_type": "markdown",
      "metadata": {
        "id": "Sq-JhCcLpBwS"
      },
      "source": [
        "\n",
        "In this project, we will be building a machine learning model capable of recognizing dogs for self driving cars.\n",
        "\n",
        "The first step to avoiding these dogs is **knowing if a puppy is in front of the car**. So today we will **build a detector that can tell when our car sees a dog or not**.\n",
        "\n"
      ]
    },
    {
      "cell_type": "code",
      "metadata": {
        "id": "uhNVum16scIW",
        "colab": {
          "base_uri": "https://localhost:8080/",
          "height": 384
        },
        "outputId": "c605929c-d28f-43fd-b0b8-f619a09173b6"
      },
      "source": [
        "#@title Run this to load some packages and data! { display-mode: \"form\" }\n",
        "from sklearn.neural_network import MLPClassifier\n",
        "from sklearn.neighbors import KNeighborsClassifier\n",
        "from sklearn import model_selection\n",
        "from sklearn.metrics import accuracy_score\n",
        "from collections import Counter\n",
        "import tensorflow as tf\n",
        "from tensorflow import keras\n",
        "from keras._tf_keras.keras.models import Sequential\n",
        "from keras._tf_keras.keras.layers import Dense, Conv2D\n",
        "from keras._tf_keras.keras.layers import Activation, MaxPooling2D, Dropout, Flatten, Reshape\n",
        "from scikeras.wrappers import KerasClassifier\n",
        "from sklearn.model_selection import StratifiedKFold\n",
        "from sklearn.model_selection import cross_val_score\n",
        "import numpy as np\n",
        "import pandas as pd\n",
        "import seaborn as sns\n",
        "import matplotlib.pyplot as plt\n",
        "\n",
        "import warnings\n",
        "warnings.filterwarnings(\"ignore\", category=UserWarning)\n",
        "\n",
        "\n",
        "def categorical_to_numpy(labels_in):\n",
        "  labels = []\n",
        "  for label in labels_in:\n",
        "    if label == 'dog':\n",
        "      labels.append(np.array([1, 0]))\n",
        "    else:\n",
        "      labels.append(np.array([0, 1]))\n",
        "  return np.array(labels)\n",
        "\n",
        "def one_hot_encoding(input):\n",
        "  output = np.array(input)\n",
        "  output = np.zeros((input.size, input.max()+1))\n",
        "  output[np.arange(input.size),input] = 1\n",
        "\n",
        "  return output\n",
        "\n",
        "\n",
        "def load_data():\n",
        "  # Run this cell to download our data into a file called 'cifar_data'\n",
        "  !wget -O cifar_data https://storage.googleapis.com/inspirit-ai-data-bucket-1/Data/AI%20Scholars/Sessions%201%20-%205/Session%204%20_%205%20-%20Neural%20Networks%20_%20CNN/dogs_v_roads\n",
        "\n",
        "  # now load the data from our cloud computer\n",
        "  import pickle\n",
        "  data_dict = pickle.load(open( \"cifar_data\", \"rb\" ));\n",
        "\n",
        "  data   = data_dict['data']\n",
        "  labels = data_dict['labels']\n",
        "\n",
        "  return data, labels\n",
        "\n",
        "def plot_one_image(data, labels, img_idx):\n",
        "  from google.colab.patches import cv2_imshow\n",
        "  import cv2\n",
        "  import matplotlib.pyplot as plt\n",
        "  my_img   = data[img_idx, :].squeeze().reshape([32,32,3]).copy()\n",
        "  my_label = labels[img_idx]\n",
        "  print('label: %s'%my_label)\n",
        "  fig, ax = plt.subplots(1,1)\n",
        "\n",
        "  img = ax.imshow(my_img, extent=[-1,1,-1,1])\n",
        "\n",
        "  x_label_list = [0, 8, 16, 24, 32]\n",
        "  y_label_list = [0, 8, 16, 24, 32]\n",
        "\n",
        "  ax.set_xticks([-1, -0.5, 0, 0.5, 1])\n",
        "  ax.set_yticks([-1, -0.5, 0, 0.5, 1])\n",
        "\n",
        "  ax.set_xticklabels(x_label_list)\n",
        "  ax.set_yticklabels(y_label_list)\n",
        "\n",
        "  fig.show(img)\n",
        "\n",
        "def CNNClassifier(num_epochs=30, layers=4, dropout=0.5):\n",
        "  def create_model():\n",
        "    model = Sequential()\n",
        "    model.add(Reshape((32, 32, 3)))\n",
        "\n",
        "    for i in range(layers):\n",
        "      model.add(Conv2D(32, (3, 3), padding='same'))\n",
        "      model.add(Activation('relu'))\n",
        "\n",
        "    model.add(Conv2D(32, (3, 3)))\n",
        "    model.add(Activation('relu'))\n",
        "    model.add(MaxPooling2D(pool_size=(2, 2)))\n",
        "    model.add(Dropout(dropout))\n",
        "\n",
        "    model.add(Conv2D(64, (3, 3), padding='same'))\n",
        "    model.add(Activation('relu'))\n",
        "    model.add(Conv2D(64, (3, 3)))\n",
        "    model.add(Activation('relu'))\n",
        "    model.add(MaxPooling2D(pool_size=(2, 2)))\n",
        "    model.add(Dropout(dropout))\n",
        "\n",
        "    model.add(Flatten())\n",
        "    model.add(Dense(512))\n",
        "    model.add(Activation('relu'))\n",
        "    model.add(Dropout(dropout))\n",
        "    model.add(Dense(2))\n",
        "    model.add(Activation('softmax'))\n",
        "\n",
        "    # initiate RMSprop optimizer\n",
        "    opt = keras.optimizers.RMSprop(learning_rate=0.0001, decay=1e-6)\n",
        "\n",
        "    # Let's train the model using RMSprop\n",
        "    model.compile(loss='categorical_crossentropy',\n",
        "                  optimizer=opt,\n",
        "                  metrics=['accuracy'])\n",
        "    return model\n",
        "  return KerasClassifier(build_fn=create_model, epochs=num_epochs, batch_size=10, verbose=2)\n",
        "\n",
        "def plot_acc(history, ax = None, xlabel = 'Epoch #'):\n",
        "    history = history.history\n",
        "    history.update({'epoch':list(range(len(history['val_accuracy'])))})\n",
        "    history = pd.DataFrame.from_dict(history)\n",
        "\n",
        "    best_epoch = history.sort_values(by = 'val_accuracy', ascending = False).iloc[0]['epoch']\n",
        "\n",
        "    if not ax:\n",
        "      f, ax = plt.subplots(1,1)\n",
        "    sns.lineplot(x = 'epoch', y = 'val_accuracy', data = history, label = 'Validation', ax = ax)\n",
        "    sns.lineplot(x = 'epoch', y = 'accuracy', data = history, label = 'Training', ax = ax)\n",
        "    ax.axhline(0.5, linestyle = '--',color='red', label = 'Chance')\n",
        "    ax.axvline(x = best_epoch, linestyle = '--', color = 'green', label = 'Best Epoch')\n",
        "    ax.legend(loc = 7)\n",
        "    ax.set_ylim([0.4, 1])\n",
        "\n",
        "    ax.set_xlabel(xlabel)\n",
        "    ax.set_ylabel('Accuracy (Fraction)')\n",
        "\n",
        "    plt.show()"
      ],
      "execution_count": 5,
      "outputs": [
        {
          "output_type": "error",
          "ename": "ModuleNotFoundError",
          "evalue": "No module named 'keras._tf_keras.keras.wrappers'",
          "traceback": [
            "\u001b[0;31m---------------------------------------------------------------------------\u001b[0m",
            "\u001b[0;31mModuleNotFoundError\u001b[0m                       Traceback (most recent call last)",
            "\u001b[0;32m<ipython-input-5-3c1f78a60bb9>\u001b[0m in \u001b[0;36m<cell line: 12>\u001b[0;34m()\u001b[0m\n\u001b[1;32m     10\u001b[0m \u001b[0;32mfrom\u001b[0m \u001b[0mkeras\u001b[0m\u001b[0;34m.\u001b[0m\u001b[0m_tf_keras\u001b[0m\u001b[0;34m.\u001b[0m\u001b[0mkeras\u001b[0m\u001b[0;34m.\u001b[0m\u001b[0mlayers\u001b[0m \u001b[0;32mimport\u001b[0m \u001b[0mDense\u001b[0m\u001b[0;34m,\u001b[0m \u001b[0mConv2D\u001b[0m\u001b[0;34m\u001b[0m\u001b[0;34m\u001b[0m\u001b[0m\n\u001b[1;32m     11\u001b[0m \u001b[0;32mfrom\u001b[0m \u001b[0mkeras\u001b[0m\u001b[0;34m.\u001b[0m\u001b[0m_tf_keras\u001b[0m\u001b[0;34m.\u001b[0m\u001b[0mkeras\u001b[0m\u001b[0;34m.\u001b[0m\u001b[0mlayers\u001b[0m \u001b[0;32mimport\u001b[0m \u001b[0mActivation\u001b[0m\u001b[0;34m,\u001b[0m \u001b[0mMaxPooling2D\u001b[0m\u001b[0;34m,\u001b[0m \u001b[0mDropout\u001b[0m\u001b[0;34m,\u001b[0m \u001b[0mFlatten\u001b[0m\u001b[0;34m,\u001b[0m \u001b[0mReshape\u001b[0m\u001b[0;34m\u001b[0m\u001b[0;34m\u001b[0m\u001b[0m\n\u001b[0;32m---> 12\u001b[0;31m \u001b[0;32mfrom\u001b[0m \u001b[0mkeras\u001b[0m\u001b[0;34m.\u001b[0m\u001b[0m_tf_keras\u001b[0m\u001b[0;34m.\u001b[0m\u001b[0mkeras\u001b[0m\u001b[0;34m.\u001b[0m\u001b[0mwrappers\u001b[0m\u001b[0;34m.\u001b[0m\u001b[0mscikit_learn\u001b[0m \u001b[0;32mimport\u001b[0m \u001b[0mKerasClassifier\u001b[0m\u001b[0;34m\u001b[0m\u001b[0;34m\u001b[0m\u001b[0m\n\u001b[0m\u001b[1;32m     13\u001b[0m \u001b[0;32mfrom\u001b[0m \u001b[0msklearn\u001b[0m\u001b[0;34m.\u001b[0m\u001b[0mmodel_selection\u001b[0m \u001b[0;32mimport\u001b[0m \u001b[0mStratifiedKFold\u001b[0m\u001b[0;34m\u001b[0m\u001b[0;34m\u001b[0m\u001b[0m\n\u001b[1;32m     14\u001b[0m \u001b[0;32mfrom\u001b[0m \u001b[0msklearn\u001b[0m\u001b[0;34m.\u001b[0m\u001b[0mmodel_selection\u001b[0m \u001b[0;32mimport\u001b[0m \u001b[0mcross_val_score\u001b[0m\u001b[0;34m\u001b[0m\u001b[0;34m\u001b[0m\u001b[0m\n",
            "\u001b[0;31mModuleNotFoundError\u001b[0m: No module named 'keras._tf_keras.keras.wrappers'",
            "",
            "\u001b[0;31m---------------------------------------------------------------------------\u001b[0;32m\nNOTE: If your import is failing due to a missing package, you can\nmanually install dependencies using either !pip or !apt.\n\nTo view examples of installing some common dependencies, click the\n\"Open Examples\" button below.\n\u001b[0;31m---------------------------------------------------------------------------\u001b[0m\n"
          ],
          "errorDetails": {
            "actions": [
              {
                "action": "open_url",
                "actionText": "Open Examples",
                "url": "/notebooks/snippets/importing_libraries.ipynb"
              }
            ]
          }
        }
      ]
    },
    {
      "cell_type": "markdown",
      "metadata": {
        "id": "EsGDD5lvQoBZ"
      },
      "source": [
        "In this notebook, we'll:\n",
        "- Explore the cars vs. roads dataset\n",
        "- Train a simple K-neighbors classifier for computer vision\n",
        "- Train neural nets to tell dogs from roads\n",
        "- Improve our model with convolutional neural networks!\n",
        "- Use a saliency map to implement explainable AI"
      ]
    },
    {
      "cell_type": "markdown",
      "metadata": {
        "id": "1QxGsnvhnn8R"
      },
      "source": [
        "# Understanding our data"
      ]
    },
    {
      "cell_type": "markdown",
      "metadata": {
        "id": "btr24O6Hqgo6"
      },
      "source": [
        "Our cars are very attentive and always have their eyes on the road.\n",
        "\n",
        "Every second, they're streaming in data about the street, including video.\n",
        "\n",
        "From this video data, we want our car to tell: is there 'road' or 'dog' in front of it?\n",
        "\n",
        "Lucky for us, we have a dataset of dog and road images already prepared. Let's start by reading that *labeled* data in.\n"
      ]
    },
    {
      "cell_type": "code",
      "metadata": {
        "id": "MmZbrZoKnthN",
        "colab": {
          "base_uri": "https://localhost:8080/"
        },
        "outputId": "9248fb7a-cf64-408a-9b83-626377939084"
      },
      "source": [
        "# load our data\n",
        "data, labels = load_data()"
      ],
      "execution_count": null,
      "outputs": [
        {
          "output_type": "stream",
          "name": "stdout",
          "text": [
            "--2022-06-19 21:03:57--  https://storage.googleapis.com/inspirit-ai-data-bucket-1/Data/AI%20Scholars/Sessions%201%20-%205/Session%204%20_%205%20-%20Neural%20Networks%20_%20CNN/dogs_v_roads\n",
            "Resolving storage.googleapis.com (storage.googleapis.com)... 74.125.134.128, 74.125.141.128, 173.194.210.128, ...\n",
            "Connecting to storage.googleapis.com (storage.googleapis.com)|74.125.134.128|:443... connected.\n",
            "HTTP request sent, awaiting response... 200 OK\n",
            "Length: 3689015 (3.5M) [application/octet-stream]\n",
            "Saving to: ‘cifar_data’\n",
            "\n",
            "\rcifar_data            0%[                    ]       0  --.-KB/s               \rcifar_data          100%[===================>]   3.52M  --.-KB/s    in 0.02s   \n",
            "\n",
            "2022-06-19 21:03:57 (215 MB/s) - ‘cifar_data’ saved [3689015/3689015]\n",
            "\n"
          ]
        }
      ]
    },
    {
      "cell_type": "markdown",
      "metadata": {
        "id": "AGO0FFnqdFne"
      },
      "source": [
        "Let's look at an image of a dog.\n",
        "\n",
        "\n"
      ]
    },
    {
      "cell_type": "code",
      "metadata": {
        "id": "csXB_FPMrx1D",
        "colab": {
          "base_uri": "https://localhost:8080/",
          "height": 286
        },
        "outputId": "c93d19ff-832c-476b-f2b9-989facde81f2"
      },
      "source": [
        "plot_one_image(data, labels, 2) #change this number"
      ],
      "execution_count": null,
      "outputs": [
        {
          "output_type": "stream",
          "name": "stdout",
          "text": [
            "label: dog\n"
          ]
        },
        {
          "output_type": "display_data",
          "data": {
            "text/plain": [
              "<Figure size 432x288 with 1 Axes>"
            ],
            "image/png": "[encoded data removed]"
          },
          "metadata": {
            "needs_background": "light"
          }
        }
      ]
    },
    {
      "cell_type": "markdown",
      "metadata": {
        "id": "ZYRzHTxVdSTG"
      },
      "source": [
        "\n",
        "\n",
        "Next, let's try a road image."
      ]
    },
    {
      "cell_type": "code",
      "metadata": {
        "id": "CsRj6BAqs25Y",
        "colab": {
          "base_uri": "https://localhost:8080/",
          "height": 286
        },
        "outputId": "f3035107-d063-4b7c-be8d-39fd78193266"
      },
      "source": [
        "plot_one_image(data, labels, 700) #change this number"
      ],
      "execution_count": null,
      "outputs": [
        {
          "output_type": "stream",
          "name": "stdout",
          "text": [
            "label: road\n"
          ]
        },
        {
          "output_type": "display_data",
          "data": {
            "text/plain": [
              "<Figure size 432x288 with 1 Axes>"
            ],
            "image/png": "[encoded data removed]"
          },
          "metadata": {
            "needs_background": "light"
          }
        }
      ]
    },
    {
      "cell_type": "markdown",
      "metadata": {
        "id": "r0Qx4UYxdbTK"
      },
      "source": [
        "How many images do we have?"
      ]
    },
    {
      "cell_type": "code",
      "metadata": {
        "id": "6LQXCiGmAmz-",
        "colab": {
          "base_uri": "https://localhost:8080/"
        },
        "outputId": "cd8abb95-2c63-45df-b409-9e369ec55338"
      },
      "source": [
        "print (len(data))\n",
        "print(Counter(labels))"
      ],
      "execution_count": null,
      "outputs": [
        {
          "output_type": "stream",
          "name": "stdout",
          "text": [
            "1200\n",
            "Counter({'dog': 600, 'road': 600})\n"
          ]
        }
      ]
    },
    {
      "cell_type": "markdown",
      "metadata": {
        "id": "OojOPMbLAl2B"
      },
      "source": [
        "The dataset is organized such that there are 600 images of dogs and 600 images of roads."
      ]
    },
    {
      "cell_type": "markdown",
      "metadata": {
        "id": "PHS0E_3wt0RS"
      },
      "source": [
        "##Understanding our Data Representation\n",
        "\n",
        "In an image each pixel is denoted by 3 numbers that represent the intensity value of that pixel (0 - 255) for each color channel (R, G, and B). Below we\n",
        "see a list of numbers for each image that represent the intensity values.\n"
      ]
    },
    {
      "cell_type": "code",
      "metadata": {
        "id": "DlgF6jWit9jz",
        "colab": {
          "base_uri": "https://localhost:8080/"
        },
        "outputId": "f9a42501-f59e-40cc-efbf-9ce403e0243a"
      },
      "source": [
        "print('One image looks like: ')\n",
        "print(data[0])\n",
        "print(\"Length of list: \", len(data[0]))"
      ],
      "execution_count": null,
      "outputs": [
        {
          "output_type": "stream",
          "name": "stdout",
          "text": [
            "One image looks like: \n",
            "[45 20 19 ... 83 99 31]\n",
            "Length of list:  3072\n"
          ]
        }
      ]
    },
    {
      "cell_type": "markdown",
      "metadata": {
        "id": "-haNvnOwt-YE"
      },
      "source": [
        "We use these values as **inputs** to predict an **output** label: 'dog' or 'road'!\n",
        "\n",
        "Here's what our entire dataset looks like:"
      ]
    },
    {
      "cell_type": "code",
      "metadata": {
        "id": "JZIiCuBrvS6z",
        "colab": {
          "base_uri": "https://localhost:8080/"
        },
        "outputId": "e66d7f6c-4fce-42af-fe0c-dc8fea641bb6"
      },
      "source": [
        "print ('Data shape:', data.shape)\n",
        "print ('Data:', data)"
      ],
      "execution_count": null,
      "outputs": [
        {
          "output_type": "stream",
          "name": "stdout",
          "text": [
            "Data shape: (1200, 3072)\n",
            "Data: [[ 45  20  19 ...  83  99  31]\n",
            " [101 114  35 ... 155 134  91]\n",
            " [213 221 221 ... 139  58  47]\n",
            " ...\n",
            " [126 174 202 ... 124 128 129]\n",
            " [191 232 240 ...  74  93  81]\n",
            " [237 248 254 ...  45  56  10]]\n"
          ]
        }
      ]
    },
    {
      "cell_type": "markdown",
      "metadata": {
        "id": "tUjr5CKnhvtg"
      },
      "source": [
        "#A Simple Machine Learner"
      ]
    },
    {
      "cell_type": "markdown",
      "metadata": {
        "id": "hPskDCqlzOEE"
      },
      "source": [
        "We want to create a machine learning model that can tell us whether a new image is either a dog or a road.\n",
        "\n",
        "We will give our model a training manual of data and labels that it will study or train on.\n",
        "\n",
        "We then check how well our model is doing on a test, where it is given data and told to predict their labels.\n"
      ]
    },
    {
      "cell_type": "markdown",
      "metadata": {
        "id": "S0tDoNWFVVYB"
      },
      "source": [
        "##Building a KNN##"
      ]
    },
    {
      "cell_type": "markdown",
      "metadata": {
        "id": "Q8_JZ9PVzKzr"
      },
      "source": [
        "Let's start by using the `KNeighborsClassifier` model.\n",
        "\n",
        "**Playground:** Explore [this demo](http://vision.stanford.edu/teaching/cs231n-demos/knn/) to understand what the KNN model is doing!\n",
        "\n"
      ]
    },
    {
      "cell_type": "code",
      "metadata": {
        "id": "ZFOgS2VEyTkH",
        "colab": {
          "base_uri": "https://localhost:8080/"
        },
        "outputId": "2a1f0902-6902-4a65-9ce2-f955836bdc4b"
      },
      "source": [
        "X_train, X_test, y_train, y_test = model_selection.train_test_split(data, labels, test_size=0.2, random_state=1)\n",
        "\n",
        "# Initialize our model\n",
        "knn_model = KNeighborsClassifier(n_neighbors=3) # Change this!\n",
        "\n",
        "# Train our model\n",
        "knn_model.fit(X_train,y_train)\n",
        "# Test our model\n",
        "y_pred = knn_model.predict(X_test)\n",
        "# Print the score on the testing data\n",
        "print(accuracy_score(y_test,y_pred))"
      ],
      "execution_count": null,
      "outputs": [
        {
          "output_type": "stream",
          "name": "stdout",
          "text": [
            "0.8\n"
          ]
        }
      ]
    },
    {
      "cell_type": "markdown",
      "metadata": {
        "id": "uU48O9l18_-C"
      },
      "source": [
        "##Predicting on images\n",
        "\n",
        "We can use our trained model to predict whether our car is seeing a `dog` or `road`.\n"
      ]
    },
    {
      "cell_type": "code",
      "metadata": {
        "id": "Az1_moLl9E0B",
        "colab": {
          "base_uri": "https://localhost:8080/",
          "height": 304
        },
        "outputId": "3a078347-8535-40c8-c711-52fb1c2a5c92"
      },
      "source": [
        "# Specify which image you want to show\n",
        "image_id = 100\n",
        "\n",
        "# Visualize the image\n",
        "plot_one_image(X_test, y_test, image_id)\n",
        "\n",
        "# Use the model to predict what this might be and print it\n",
        "print('prediction:', knn_model.predict([X_test[image_id]])[0])"
      ],
      "execution_count": null,
      "outputs": [
        {
          "output_type": "stream",
          "name": "stdout",
          "text": [
            "label: road\n",
            "prediction: road\n"
          ]
        },
        {
          "output_type": "display_data",
          "data": {
            "text/plain": [
              "<Figure size 432x288 with 1 Axes>"
            ],
            "image/png": "[encoded data removed]"
          },
          "metadata": {
            "needs_background": "light"
          }
        }
      ]
    },
    {
      "cell_type": "markdown",
      "metadata": {
        "id": "4oW_Wb-1CTfB"
      },
      "source": [
        "## Choosing a value of k\n",
        "\n",
        "Let's determine the optimal value of \"K\" for our data. We can use a for-loop to loop through different values of \"K\"."
      ]
    },
    {
      "cell_type": "code",
      "metadata": {
        "id": "OrZK_qoAZOAd",
        "colab": {
          "base_uri": "https://localhost:8080/"
        },
        "outputId": "02dedbce-3734-4c0f-c133-5d9e65961c65"
      },
      "source": [
        "for i in [1,3,5,10,20,30]:\n",
        "  knn_model = KNeighborsClassifier(n_neighbors=i + 1)\n",
        "  knn_model.fit(X_train,y_train)\n",
        "  y_pred=knn_model.predict(X_test)\n",
        "  print(accuracy_score(y_test,y_pred))"
      ],
      "execution_count": null,
      "outputs": [
        {
          "output_type": "stream",
          "name": "stdout",
          "text": [
            "0.8916666666666667\n",
            "0.8666666666666667\n",
            "0.8375\n",
            "0.8166666666666667\n",
            "0.8041666666666667\n",
            "0.8\n"
          ]
        }
      ]
    },
    {
      "cell_type": "markdown",
      "metadata": {
        "id": "j09evSD_YfJ4"
      },
      "source": [
        "## Understanding our mistakes\n",
        "\n",
        "Our classifications are OK, but are they good enough for our conscientious cars?\n",
        "\n",
        "Let's determine the root causes of the incorrect classifications."
      ]
    },
    {
      "cell_type": "code",
      "metadata": {
        "id": "xWy1S_gyGoJT",
        "colab": {
          "base_uri": "https://localhost:8080/",
          "height": 1000
        },
        "outputId": "511d440a-363a-4a64-d7e7-47deca23101b"
      },
      "source": [
        "#True Positives (code provided)\n",
        "tp_count = 0\n",
        "print (\"TRUE POSITIVES\")\n",
        "i = 0\n",
        "while tp_count < 4 and i < len(X_test):\n",
        "  prediction = knn_model.predict([X_test[i]])[0]\n",
        "  if prediction == y_test[i] and prediction == 'dog':\n",
        "    plot_one_image(X_test, y_test, i)\n",
        "    tp_count += 1\n",
        "  i += 1\n",
        "\n",
        "#False Positives\n",
        "fp_count = 0\n",
        "print (\"FALSE POSITIVES\")\n",
        "i = 0\n",
        "while fp_count < 4 and i < len(X_test):\n",
        "  prediction = knn_model.predict([X_test[i]])[0]\n",
        "  if prediction != y_test[i] and prediction == 'dog':\n",
        "    plot_one_image(X_test, y_test, i)\n",
        "    fp_count += 1\n",
        "  i += 1\n",
        "#True Negatives\n",
        "tn_count = 0\n",
        "print (\"TRUE NEGATIVES\")\n",
        "i = 0\n",
        "while tn_count < 4 and i < len(X_test):\n",
        "  prediction = knn_model.predict([X_test[i]])[0]\n",
        "  if prediction == y_test[i] and prediction == 'road':\n",
        "    plot_one_image(X_test, y_test, i)\n",
        "    tn_count += 1\n",
        "  i += 1\n",
        "#False Negatives\n",
        "fn_count = 0\n",
        "print (\"FALSE NEGATIVES\")\n",
        "i = 0\n",
        "while fn_count < 4 and i < len(X_test):\n",
        "  prediction = knn_model.predict([X_test[i]])[0]\n",
        "  if prediction != y_test[i] and prediction == 'road':\n",
        "    plot_one_image(X_test, y_test, i)\n",
        "    fn_count += 1\n",
        "  i += 1"
      ],
      "execution_count": null,
      "outputs": [
        {
          "output_type": "stream",
          "name": "stdout",
          "text": [
            "TRUE POSITIVES\n",
            "label: dog\n",
            "label: dog\n",
            "label: dog\n",
            "label: dog\n",
            "FALSE POSITIVES\n",
            "label: road\n",
            "TRUE NEGATIVES\n",
            "label: road\n",
            "label: road\n",
            "label: road\n",
            "label: road\n",
            "FALSE NEGATIVES\n",
            "label: dog\n",
            "label: dog\n",
            "label: dog\n",
            "label: dog\n"
          ]
        },
        {
          "output_type": "display_data",
          "data": {
            "text/plain": [
              "<Figure size 432x288 with 1 Axes>"
            ],
            "image/png": "[encoded data removed]"
          },
          "metadata": {
            "needs_background": "light"
          }
        },
        {
          "output_type": "display_data",
          "data": {
            "text/plain": [
              "<Figure size 432x288 with 1 Axes>"
            ],
            "image/png": "[encoded data removed]"
          },
          "metadata": {
            "needs_background": "light"
          }
        },
        {
          "output_type": "display_data",
          "data": {
            "text/plain": [
              "<Figure size 432x288 with 1 Axes>"
            ],
            "image/png": "[encoded data removed]"
          },
          "metadata": {
            "needs_background": "light"
          }
        },
        {
          "output_type": "display_data",
          "data": {
            "text/plain": [
              "<Figure size 432x288 with 1 Axes>"
            ],
            "image/png": "[encoded data removed]"
          },
          "metadata": {
            "needs_background": "light"
          }
        },
        {
          "output_type": "display_data",
          "data": {
            "text/plain": [
              "<Figure size 432x288 with 1 Axes>"
            ],
            "image/png": "[encoded data removed]"
          },
          "metadata": {
            "needs_background": "light"
          }
        },
        {
          "output_type": "display_data",
          "data": {
            "text/plain": [
              "<Figure size 432x288 with 1 Axes>"
            ],
            "image/png": "[encoded data removed]"
          },
          "metadata": {
            "needs_background": "light"
          }
        },
        {
          "output_type": "display_data",
          "data": {
            "text/plain": [
              "<Figure size 432x288 with 1 Axes>"
            ],
            "image/png": "[encoded data removed]"
          },
          "metadata": {
            "needs_background": "light"
          }
        },
        {
          "output_type": "display_data",
          "data": {
            "text/plain": [
              "<Figure size 432x288 with 1 Axes>"
            ],
            "image/png": "[encoded data removed]"
          },
          "metadata": {
            "needs_background": "light"
          }
        },
        {
          "output_type": "display_data",
          "data": {
            "text/plain": [
              "<Figure size 432x288 with 1 Axes>"
            ],
            "image/png": "[encoded data removed]"
          },
          "metadata": {
            "needs_background": "light"
          }
        },
        {
          "output_type": "display_data",
          "data": {
            "text/plain": [
              "<Figure size 432x288 with 1 Axes>"
            ],
            "image/png": "[encoded data removed]"
          },
          "metadata": {
            "needs_background": "light"
          }
        },
        {
          "output_type": "display_data",
          "data": {
            "text/plain": [
              "<Figure size 432x288 with 1 Axes>"
            ],
            "image/png": "[encoded data removed]"
          },
          "metadata": {
            "needs_background": "light"
          }
        },
        {
          "output_type": "display_data",
          "data": {
            "text/plain": [
              "<Figure size 432x288 with 1 Axes>"
            ],
            "image/png": "[encoded data removed]"
          },
          "metadata": {
            "needs_background": "light"
          }
        },
        {
          "output_type": "display_data",
          "data": {
            "text/plain": [
              "<Figure size 432x288 with 1 Axes>"
            ],
            "image/png": "[encoded data removed]"
          },
          "metadata": {
            "needs_background": "light"
          }
        }
      ]
    },
    {
      "cell_type": "markdown",
      "metadata": {
        "id": "doLXp1Ot8D2C"
      },
      "source": [
        "#Neural Networks\n",
        "Now, let's create some new models using neural networks.\n",
        "\n",
        "You can play around with [TensorFlow Playground](https://playground.tensorflow.org/#activation=tanh&batchSize=10&dataset=circle&regDataset=reg-plane&learningRate=0.03&regularizationRate=0&noise=0&networkShape=4,2&seed=0.62283&showTestData=false&discretize=false&percTrainData=50&x=true&y=true&xTimesY=false&xSquared=false&ySquared=false&cosX=false&sinX=false&cosY=false&sinY=false&collectStats=false&problem=classification&initZero=false&hideText=false&regularization_hide=true&regularizationRate_hide=true&learningRate_hide=true&batchSize_hide=true&stepButton_hide=true&activation_hide=true) to get a feel for how neural nets work."
      ]
    },
    {
      "cell_type": "markdown",
      "metadata": {
        "id": "u9iFe-B4zqQA"
      },
      "source": [
        "To build a simple neural network, we use `MLPClassifier` from scikit-learn. We will play with the **number of neurons** and the **number of hidden layers** to adjust the complexity of our model, just like we did in Playground."
      ]
    },
    {
      "cell_type": "code",
      "metadata": {
        "id": "x4XblMWBzm96",
        "colab": {
          "base_uri": "https://localhost:8080/"
        },
        "outputId": "38054788-7f17-43e2-a2e6-2bb8c4d23c61"
      },
      "source": [
        "# Create and train our multi layer perceptron model\n",
        "nnet = MLPClassifier(hidden_layer_sizes=(3), random_state=1, max_iter=10000000)\n",
        "nnet.fit(X_train, y_train)\n",
        "\n",
        "# Predict what the classes are based on the testing data\n",
        "predictions = nnet.predict(X_test)\n",
        "\n",
        "# Print the score on the testing data\n",
        "print(\"MLP Testing Accuracy:\")\n",
        "print(accuracy_score(y_test, predictions)*100)"
      ],
      "execution_count": null,
      "outputs": [
        {
          "output_type": "stream",
          "name": "stdout",
          "text": [
            "MLP Testing Accuracy:\n",
            "47.083333333333336\n"
          ]
        }
      ]
    },
    {
      "cell_type": "markdown",
      "metadata": {
        "id": "J1QYZTxq0RCV"
      },
      "source": [
        "**How well did our neural network perform?**\n",
        "\n",
        "Multilayer perceptrons are more complex models and it can be difficult to find the right \"settings\" for them. It takes some trial and error."
      ]
    },
    {
      "cell_type": "markdown",
      "metadata": {
        "id": "nX27P2eY0yqQ"
      },
      "source": [
        "\n",
        "* Train a 1 layer, 10 neuron network for practice\n",
        "* Change the number of neurons and/or add layers to see how well you can do\n",
        "* Increase or decrease the number of iterations"
      ]
    },
    {
      "cell_type": "code",
      "metadata": {
        "id": "_nPOrTN-JMYk",
        "colab": {
          "base_uri": "https://localhost:8080/"
        },
        "outputId": "aa3c5b30-91dd-4a81-d848-902a8d899ec9"
      },
      "source": [
        "nnet = MLPClassifier(hidden_layer_sizes=(10,10), random_state=1, max_iter=10000000)\n",
        "nnet.fit(X_train, y_train)\n",
        "predictions = nnet.predict(X_test)\n",
        "print(\"MLP Testing Accuracy:\")\n",
        "print(accuracy_score(y_test, predictions)*100)"
      ],
      "execution_count": null,
      "outputs": [
        {
          "output_type": "stream",
          "name": "stdout",
          "text": [
            "MLP Testing Accuracy:\n",
            "87.91666666666667\n"
          ]
        }
      ]
    },
    {
      "cell_type": "markdown",
      "metadata": {
        "id": "hXud5MuBXqzo"
      },
      "source": [
        "###Automating our Experiments\n",
        "\n",
        "Similar to what we did for KNNs, we can use a for loop to automate our investigation."
      ]
    },
    {
      "cell_type": "code",
      "metadata": {
        "id": "owrF6cDvX0HX",
        "colab": {
          "base_uri": "https://localhost:8080/"
        },
        "outputId": "13f79447-4d4a-446a-8bcc-51d1b4f7655d"
      },
      "source": [
        "for i in [(1,1), (3,3), (5,5), (8,6), (10,10,10), (10,10,5)]:\n",
        "  nnet = MLPClassifier(hidden_layer_sizes=i, random_state=1, max_iter=10000000)\n",
        "  nnet.fit(X_train, y_train)\n",
        "  predictions = nnet.predict(X_test)\n",
        "  print(\"MLP Testing Accuracy:\")\n",
        "  print(accuracy_score(y_test, predictions)*100)"
      ],
      "execution_count": null,
      "outputs": [
        {
          "output_type": "stream",
          "name": "stdout",
          "text": [
            "MLP Testing Accuracy:\n",
            "47.083333333333336\n",
            "MLP Testing Accuracy:\n",
            "47.083333333333336\n",
            "MLP Testing Accuracy:\n",
            "52.916666666666664\n",
            "MLP Testing Accuracy:\n",
            "44.166666666666664\n",
            "MLP Testing Accuracy:\n",
            "52.916666666666664\n",
            "MLP Testing Accuracy:\n",
            "87.5\n"
          ]
        }
      ]
    },
    {
      "cell_type": "markdown",
      "metadata": {
        "id": "37O_VE_D1Bdy"
      },
      "source": [
        "# Models for Vision: Convolutional Neural Networks\n",
        "There is a famous type of neural network known as convolutional neural networks (CNNs). These types of neural networks work particularly well on problems to do with computer vision. Let's try one out."
      ]
    },
    {
      "cell_type": "markdown",
      "metadata": {
        "id": "GqrfI4JiVeFr"
      },
      "source": [
        "###Training Your CNN\n",
        "To load up a simple CNN on scikit-learn, just run:\n",
        "\n",
        "`cnn = CNNClassifier(num_epochs=N)`\n",
        "\n",
        "The `num_epochs` represents how many times the neural network passes through the training dataset.\n",
        "\n",
        "We'll need to change our data to floats (decimal numbers)."
      ]
    },
    {
      "cell_type": "code",
      "metadata": {
        "id": "dSwghlVU4WTy",
        "colab": {
          "base_uri": "https://localhost:8080/"
        },
        "outputId": "6726a0b0-000a-429a-e188-c73247e24959"
      },
      "source": [
        "# convert our data to floats for our CNN\n",
        "X_train = X_train.astype(float)\n",
        "X_test = X_test.astype(float)\n",
        "\n",
        "# Create and train our cnn\n",
        "cnn = CNNClassifier(num_epochs=40)\n",
        "cnn.fit(X_train,y_train)\n",
        "# Predict what the classes are based on the testing data\n",
        "y_pred=cnn.predict(X_test)\n",
        "# Print the score on the testing data\n",
        "print(accuracy_score(y_test,y_pred))"
      ],
      "execution_count": null,
      "outputs": [
        {
          "output_type": "stream",
          "name": "stderr",
          "text": [
            "/usr/local/lib/python3.7/dist-packages/ipykernel_launcher.py:111: DeprecationWarning: KerasClassifier is deprecated, use Sci-Keras (https://github.com/adriangb/scikeras) instead. See https://www.adriangb.com/scikeras/stable/migration.html for help migrating.\n"
          ]
        },
        {
          "output_type": "stream",
          "name": "stdout",
          "text": [
            "Epoch 1/40\n",
            "96/96 - 13s - loss: 1.9257 - accuracy: 0.6073 - 13s/epoch - 138ms/step\n",
            "Epoch 2/40\n",
            "96/96 - 0s - loss: 0.4921 - accuracy: 0.8010 - 467ms/epoch - 5ms/step\n",
            "Epoch 3/40\n",
            "96/96 - 0s - loss: 0.3425 - accuracy: 0.8615 - 481ms/epoch - 5ms/step\n",
            "Epoch 4/40\n",
            "96/96 - 0s - loss: 0.3014 - accuracy: 0.8844 - 481ms/epoch - 5ms/step\n",
            "Epoch 5/40\n",
            "96/96 - 0s - loss: 0.2785 - accuracy: 0.8865 - 490ms/epoch - 5ms/step\n",
            "Epoch 6/40\n",
            "96/96 - 0s - loss: 0.2503 - accuracy: 0.9042 - 467ms/epoch - 5ms/step\n",
            "Epoch 7/40\n",
            "96/96 - 0s - loss: 0.2615 - accuracy: 0.9052 - 479ms/epoch - 5ms/step\n",
            "Epoch 8/40\n",
            "96/96 - 0s - loss: 0.1882 - accuracy: 0.9167 - 480ms/epoch - 5ms/step\n",
            "Epoch 9/40\n",
            "96/96 - 1s - loss: 0.1970 - accuracy: 0.9333 - 500ms/epoch - 5ms/step\n",
            "Epoch 10/40\n",
            "96/96 - 0s - loss: 0.1758 - accuracy: 0.9344 - 478ms/epoch - 5ms/step\n",
            "Epoch 11/40\n",
            "96/96 - 0s - loss: 0.1499 - accuracy: 0.9458 - 500ms/epoch - 5ms/step\n",
            "Epoch 12/40\n",
            "96/96 - 0s - loss: 0.1682 - accuracy: 0.9344 - 483ms/epoch - 5ms/step\n",
            "Epoch 13/40\n",
            "96/96 - 0s - loss: 0.1526 - accuracy: 0.9427 - 499ms/epoch - 5ms/step\n",
            "Epoch 14/40\n",
            "96/96 - 0s - loss: 0.1350 - accuracy: 0.9510 - 479ms/epoch - 5ms/step\n",
            "Epoch 15/40\n",
            "96/96 - 0s - loss: 0.1438 - accuracy: 0.9458 - 481ms/epoch - 5ms/step\n",
            "Epoch 16/40\n",
            "96/96 - 0s - loss: 0.1488 - accuracy: 0.9448 - 483ms/epoch - 5ms/step\n",
            "Epoch 17/40\n",
            "96/96 - 0s - loss: 0.1366 - accuracy: 0.9542 - 495ms/epoch - 5ms/step\n",
            "Epoch 18/40\n",
            "96/96 - 0s - loss: 0.1219 - accuracy: 0.9552 - 483ms/epoch - 5ms/step\n",
            "Epoch 19/40\n",
            "96/96 - 0s - loss: 0.1460 - accuracy: 0.9469 - 482ms/epoch - 5ms/step\n",
            "Epoch 20/40\n",
            "96/96 - 0s - loss: 0.1151 - accuracy: 0.9563 - 472ms/epoch - 5ms/step\n",
            "Epoch 21/40\n",
            "96/96 - 0s - loss: 0.1217 - accuracy: 0.9531 - 488ms/epoch - 5ms/step\n",
            "Epoch 22/40\n",
            "96/96 - 0s - loss: 0.1256 - accuracy: 0.9615 - 496ms/epoch - 5ms/step\n",
            "Epoch 23/40\n",
            "96/96 - 0s - loss: 0.0973 - accuracy: 0.9635 - 480ms/epoch - 5ms/step\n",
            "Epoch 24/40\n",
            "96/96 - 0s - loss: 0.1102 - accuracy: 0.9615 - 479ms/epoch - 5ms/step\n",
            "Epoch 25/40\n",
            "96/96 - 1s - loss: 0.1030 - accuracy: 0.9646 - 500ms/epoch - 5ms/step\n",
            "Epoch 26/40\n",
            "96/96 - 0s - loss: 0.1112 - accuracy: 0.9604 - 484ms/epoch - 5ms/step\n",
            "Epoch 27/40\n",
            "96/96 - 0s - loss: 0.1011 - accuracy: 0.9688 - 494ms/epoch - 5ms/step\n",
            "Epoch 28/40\n",
            "96/96 - 0s - loss: 0.0787 - accuracy: 0.9771 - 485ms/epoch - 5ms/step\n",
            "Epoch 29/40\n",
            "96/96 - 1s - loss: 0.0927 - accuracy: 0.9719 - 519ms/epoch - 5ms/step\n",
            "Epoch 30/40\n",
            "96/96 - 0s - loss: 0.0743 - accuracy: 0.9667 - 470ms/epoch - 5ms/step\n",
            "Epoch 31/40\n",
            "96/96 - 0s - loss: 0.0806 - accuracy: 0.9750 - 484ms/epoch - 5ms/step\n",
            "Epoch 32/40\n",
            "96/96 - 0s - loss: 0.0920 - accuracy: 0.9677 - 489ms/epoch - 5ms/step\n",
            "Epoch 33/40\n",
            "96/96 - 0s - loss: 0.0602 - accuracy: 0.9812 - 479ms/epoch - 5ms/step\n",
            "Epoch 34/40\n",
            "96/96 - 0s - loss: 0.1178 - accuracy: 0.9688 - 480ms/epoch - 5ms/step\n",
            "Epoch 35/40\n",
            "96/96 - 0s - loss: 0.0803 - accuracy: 0.9719 - 484ms/epoch - 5ms/step\n",
            "Epoch 36/40\n",
            "96/96 - 0s - loss: 0.0602 - accuracy: 0.9740 - 475ms/epoch - 5ms/step\n",
            "Epoch 37/40\n",
            "96/96 - 0s - loss: 0.0654 - accuracy: 0.9760 - 473ms/epoch - 5ms/step\n",
            "Epoch 38/40\n",
            "96/96 - 0s - loss: 0.0504 - accuracy: 0.9844 - 485ms/epoch - 5ms/step\n",
            "Epoch 39/40\n",
            "96/96 - 1s - loss: 0.0678 - accuracy: 0.9740 - 508ms/epoch - 5ms/step\n",
            "Epoch 40/40\n",
            "96/96 - 0s - loss: 0.0775 - accuracy: 0.9760 - 471ms/epoch - 5ms/step\n",
            "0.9708333333333333\n"
          ]
        }
      ]
    },
    {
      "cell_type": "markdown",
      "metadata": {
        "id": "KGWpgsVXP1ut"
      },
      "source": [
        "CNNs typically perform better than basic Neural Networks on vision problems - but like basic Neural Networks, they aren't always consistent in their results and are sensitive to a number of factors.\n",
        "\n",
        "If you're interested in learning more about CNNs, spend some time exploring the [CNN Explainer](https://poloclub.github.io/cnn-explainer/)!\n"
      ]
    },
    {
      "cell_type": "markdown",
      "metadata": {
        "id": "c-XRh5Y5P_CL"
      },
      "source": [
        "## Training and Validation Curves\n",
        "\n",
        "An important aspect of training neural networks is to prevent overfitting. **How do you know when your model is overfitting?**\n",
        "\n",
        "To plot our model's history, we can train it with\n",
        "```\n",
        "history = model.fit(X_train, categorical_to_numpy(y_train), validation_data=(X_test, categorical_to_numpy(y_test)))\n",
        "```\n",
        "\n",
        "and then use\n",
        "```\n",
        "plot_acc(history)\n",
        "```"
      ]
    },
    {
      "cell_type": "markdown",
      "metadata": {
        "id": "8eaFvE2PQEFe"
      },
      "source": [
        "\n",
        "**After how many epochs does the model begin to overfit?** Overfitting occurs when the validation accuracy starts to drop below the training accuracy."
      ]
    },
    {
      "cell_type": "code",
      "metadata": {
        "id": "OsVAasDbjARJ",
        "colab": {
          "base_uri": "https://localhost:8080/",
          "height": 1000
        },
        "outputId": "f931f01a-10f2-43a9-c861-959fc81f13b9"
      },
      "source": [
        "model=CNNClassifier(num_epochs=90)\n",
        "history = model.fit(X_train, categorical_to_numpy(y_train), validation_data=(X_test, categorical_to_numpy(y_test)))\n",
        "plot_acc(history)"
      ],
      "execution_count": null,
      "outputs": [
        {
          "output_type": "stream",
          "name": "stdout",
          "text": [
            "Epoch 1/90\n"
          ]
        },
        {
          "output_type": "stream",
          "name": "stderr",
          "text": [
            "/usr/local/lib/python3.7/dist-packages/ipykernel_launcher.py:111: DeprecationWarning: KerasClassifier is deprecated, use Sci-Keras (https://github.com/adriangb/scikeras) instead. See https://www.adriangb.com/scikeras/stable/migration.html for help migrating.\n"
          ]
        },
        {
          "output_type": "stream",
          "name": "stdout",
          "text": [
            "96/96 - 2s - loss: 2.9680 - accuracy: 0.6031 - val_loss: 0.4062 - val_accuracy: 0.7958 - 2s/epoch - 20ms/step\n",
            "Epoch 2/90\n",
            "96/96 - 1s - loss: 0.5485 - accuracy: 0.7927 - val_loss: 0.2035 - val_accuracy: 0.9167 - 560ms/epoch - 6ms/step\n",
            "Epoch 3/90\n",
            "96/96 - 1s - loss: 0.3835 - accuracy: 0.8531 - val_loss: 0.2598 - val_accuracy: 0.8875 - 558ms/epoch - 6ms/step\n",
            "Epoch 4/90\n",
            "96/96 - 1s - loss: 0.2671 - accuracy: 0.8979 - val_loss: 0.2001 - val_accuracy: 0.9250 - 561ms/epoch - 6ms/step\n",
            "Epoch 5/90\n",
            "96/96 - 1s - loss: 0.2724 - accuracy: 0.8917 - val_loss: 0.1788 - val_accuracy: 0.9583 - 570ms/epoch - 6ms/step\n",
            "Epoch 6/90\n",
            "96/96 - 1s - loss: 0.2533 - accuracy: 0.9000 - val_loss: 0.1566 - val_accuracy: 0.9458 - 847ms/epoch - 9ms/step\n",
            "Epoch 7/90\n",
            "96/96 - 1s - loss: 0.2171 - accuracy: 0.9281 - val_loss: 0.1862 - val_accuracy: 0.9208 - 1s/epoch - 11ms/step\n",
            "Epoch 8/90\n",
            "96/96 - 1s - loss: 0.1933 - accuracy: 0.9208 - val_loss: 0.2157 - val_accuracy: 0.9083 - 647ms/epoch - 7ms/step\n",
            "Epoch 9/90\n",
            "96/96 - 1s - loss: 0.1655 - accuracy: 0.9292 - val_loss: 0.1618 - val_accuracy: 0.9417 - 542ms/epoch - 6ms/step\n",
            "Epoch 10/90\n",
            "96/96 - 1s - loss: 0.1689 - accuracy: 0.9250 - val_loss: 0.1356 - val_accuracy: 0.9458 - 565ms/epoch - 6ms/step\n",
            "Epoch 11/90\n",
            "96/96 - 1s - loss: 0.1747 - accuracy: 0.9208 - val_loss: 0.1813 - val_accuracy: 0.9417 - 559ms/epoch - 6ms/step\n",
            "Epoch 12/90\n",
            "96/96 - 1s - loss: 0.1563 - accuracy: 0.9427 - val_loss: 0.1399 - val_accuracy: 0.9500 - 564ms/epoch - 6ms/step\n",
            "Epoch 13/90\n",
            "96/96 - 1s - loss: 0.1503 - accuracy: 0.9500 - val_loss: 0.1354 - val_accuracy: 0.9542 - 551ms/epoch - 6ms/step\n",
            "Epoch 14/90\n",
            "96/96 - 1s - loss: 0.1321 - accuracy: 0.9583 - val_loss: 0.1374 - val_accuracy: 0.9625 - 551ms/epoch - 6ms/step\n",
            "Epoch 15/90\n",
            "96/96 - 1s - loss: 0.1362 - accuracy: 0.9490 - val_loss: 0.1345 - val_accuracy: 0.9583 - 556ms/epoch - 6ms/step\n",
            "Epoch 16/90\n",
            "96/96 - 1s - loss: 0.1129 - accuracy: 0.9615 - val_loss: 0.1674 - val_accuracy: 0.9333 - 558ms/epoch - 6ms/step\n",
            "Epoch 17/90\n",
            "96/96 - 1s - loss: 0.1403 - accuracy: 0.9521 - val_loss: 0.1384 - val_accuracy: 0.9625 - 557ms/epoch - 6ms/step\n",
            "Epoch 18/90\n",
            "96/96 - 1s - loss: 0.1133 - accuracy: 0.9604 - val_loss: 0.1398 - val_accuracy: 0.9625 - 552ms/epoch - 6ms/step\n",
            "Epoch 19/90\n",
            "96/96 - 1s - loss: 0.1013 - accuracy: 0.9646 - val_loss: 0.1859 - val_accuracy: 0.9417 - 557ms/epoch - 6ms/step\n",
            "Epoch 20/90\n",
            "96/96 - 1s - loss: 0.1154 - accuracy: 0.9594 - val_loss: 0.2365 - val_accuracy: 0.9125 - 567ms/epoch - 6ms/step\n",
            "Epoch 21/90\n",
            "96/96 - 1s - loss: 0.1156 - accuracy: 0.9552 - val_loss: 0.1501 - val_accuracy: 0.9625 - 562ms/epoch - 6ms/step\n",
            "Epoch 22/90\n",
            "96/96 - 1s - loss: 0.1149 - accuracy: 0.9688 - val_loss: 0.1613 - val_accuracy: 0.9542 - 556ms/epoch - 6ms/step\n",
            "Epoch 23/90\n",
            "96/96 - 1s - loss: 0.0987 - accuracy: 0.9594 - val_loss: 0.1857 - val_accuracy: 0.9458 - 568ms/epoch - 6ms/step\n",
            "Epoch 24/90\n",
            "96/96 - 1s - loss: 0.1093 - accuracy: 0.9667 - val_loss: 0.1430 - val_accuracy: 0.9708 - 539ms/epoch - 6ms/step\n",
            "Epoch 25/90\n",
            "96/96 - 1s - loss: 0.0922 - accuracy: 0.9698 - val_loss: 0.1363 - val_accuracy: 0.9542 - 548ms/epoch - 6ms/step\n",
            "Epoch 26/90\n",
            "96/96 - 1s - loss: 0.0967 - accuracy: 0.9688 - val_loss: 0.1816 - val_accuracy: 0.9500 - 555ms/epoch - 6ms/step\n",
            "Epoch 27/90\n",
            "96/96 - 1s - loss: 0.1126 - accuracy: 0.9656 - val_loss: 0.1647 - val_accuracy: 0.9500 - 571ms/epoch - 6ms/step\n",
            "Epoch 28/90\n",
            "96/96 - 1s - loss: 0.0899 - accuracy: 0.9719 - val_loss: 0.1905 - val_accuracy: 0.9417 - 541ms/epoch - 6ms/step\n",
            "Epoch 29/90\n",
            "96/96 - 1s - loss: 0.0716 - accuracy: 0.9771 - val_loss: 0.1815 - val_accuracy: 0.9542 - 549ms/epoch - 6ms/step\n",
            "Epoch 30/90\n",
            "96/96 - 1s - loss: 0.0696 - accuracy: 0.9740 - val_loss: 0.1660 - val_accuracy: 0.9542 - 547ms/epoch - 6ms/step\n",
            "Epoch 31/90\n",
            "96/96 - 1s - loss: 0.0768 - accuracy: 0.9729 - val_loss: 0.2355 - val_accuracy: 0.9542 - 636ms/epoch - 7ms/step\n",
            "Epoch 32/90\n",
            "96/96 - 1s - loss: 0.0732 - accuracy: 0.9719 - val_loss: 0.1868 - val_accuracy: 0.9625 - 562ms/epoch - 6ms/step\n",
            "Epoch 33/90\n",
            "96/96 - 1s - loss: 0.0750 - accuracy: 0.9781 - val_loss: 0.1804 - val_accuracy: 0.9583 - 565ms/epoch - 6ms/step\n",
            "Epoch 34/90\n",
            "96/96 - 1s - loss: 0.0997 - accuracy: 0.9750 - val_loss: 0.1985 - val_accuracy: 0.9542 - 563ms/epoch - 6ms/step\n",
            "Epoch 35/90\n",
            "96/96 - 1s - loss: 0.0769 - accuracy: 0.9740 - val_loss: 0.1515 - val_accuracy: 0.9667 - 556ms/epoch - 6ms/step\n",
            "Epoch 36/90\n",
            "96/96 - 1s - loss: 0.0854 - accuracy: 0.9729 - val_loss: 0.1518 - val_accuracy: 0.9667 - 556ms/epoch - 6ms/step\n",
            "Epoch 37/90\n",
            "96/96 - 1s - loss: 0.0666 - accuracy: 0.9719 - val_loss: 0.1941 - val_accuracy: 0.9458 - 564ms/epoch - 6ms/step\n",
            "Epoch 38/90\n",
            "96/96 - 1s - loss: 0.0674 - accuracy: 0.9823 - val_loss: 0.1890 - val_accuracy: 0.9625 - 568ms/epoch - 6ms/step\n",
            "Epoch 39/90\n",
            "96/96 - 1s - loss: 0.0635 - accuracy: 0.9802 - val_loss: 0.2179 - val_accuracy: 0.9667 - 557ms/epoch - 6ms/step\n",
            "Epoch 40/90\n",
            "96/96 - 1s - loss: 0.0659 - accuracy: 0.9781 - val_loss: 0.1570 - val_accuracy: 0.9667 - 536ms/epoch - 6ms/step\n",
            "Epoch 41/90\n",
            "96/96 - 1s - loss: 0.0520 - accuracy: 0.9833 - val_loss: 0.1996 - val_accuracy: 0.9583 - 538ms/epoch - 6ms/step\n",
            "Epoch 42/90\n",
            "96/96 - 1s - loss: 0.0726 - accuracy: 0.9792 - val_loss: 0.1900 - val_accuracy: 0.9667 - 542ms/epoch - 6ms/step\n",
            "Epoch 43/90\n",
            "96/96 - 1s - loss: 0.0575 - accuracy: 0.9781 - val_loss: 0.1771 - val_accuracy: 0.9542 - 565ms/epoch - 6ms/step\n",
            "Epoch 44/90\n",
            "96/96 - 1s - loss: 0.0661 - accuracy: 0.9740 - val_loss: 0.2631 - val_accuracy: 0.9625 - 549ms/epoch - 6ms/step\n",
            "Epoch 45/90\n",
            "96/96 - 1s - loss: 0.0466 - accuracy: 0.9844 - val_loss: 0.1778 - val_accuracy: 0.9667 - 546ms/epoch - 6ms/step\n",
            "Epoch 46/90\n",
            "96/96 - 1s - loss: 0.0427 - accuracy: 0.9844 - val_loss: 0.2675 - val_accuracy: 0.9500 - 544ms/epoch - 6ms/step\n",
            "Epoch 47/90\n",
            "96/96 - 1s - loss: 0.0617 - accuracy: 0.9812 - val_loss: 0.1807 - val_accuracy: 0.9708 - 555ms/epoch - 6ms/step\n",
            "Epoch 48/90\n",
            "96/96 - 1s - loss: 0.0513 - accuracy: 0.9812 - val_loss: 0.2212 - val_accuracy: 0.9583 - 551ms/epoch - 6ms/step\n",
            "Epoch 49/90\n",
            "96/96 - 1s - loss: 0.0750 - accuracy: 0.9781 - val_loss: 0.2276 - val_accuracy: 0.9583 - 535ms/epoch - 6ms/step\n",
            "Epoch 50/90\n",
            "96/96 - 1s - loss: 0.0410 - accuracy: 0.9885 - val_loss: 0.4254 - val_accuracy: 0.9167 - 555ms/epoch - 6ms/step\n",
            "Epoch 51/90\n",
            "96/96 - 1s - loss: 0.0423 - accuracy: 0.9865 - val_loss: 0.1793 - val_accuracy: 0.9792 - 550ms/epoch - 6ms/step\n",
            "Epoch 52/90\n",
            "96/96 - 1s - loss: 0.0331 - accuracy: 0.9885 - val_loss: 0.2183 - val_accuracy: 0.9625 - 566ms/epoch - 6ms/step\n",
            "Epoch 53/90\n",
            "96/96 - 1s - loss: 0.0416 - accuracy: 0.9906 - val_loss: 0.2477 - val_accuracy: 0.9708 - 553ms/epoch - 6ms/step\n",
            "Epoch 54/90\n",
            "96/96 - 1s - loss: 0.0651 - accuracy: 0.9865 - val_loss: 0.2174 - val_accuracy: 0.9750 - 558ms/epoch - 6ms/step\n",
            "Epoch 55/90\n",
            "96/96 - 1s - loss: 0.0581 - accuracy: 0.9865 - val_loss: 0.2079 - val_accuracy: 0.9625 - 542ms/epoch - 6ms/step\n",
            "Epoch 56/90\n",
            "96/96 - 1s - loss: 0.0709 - accuracy: 0.9812 - val_loss: 0.2610 - val_accuracy: 0.9708 - 581ms/epoch - 6ms/step\n",
            "Epoch 57/90\n",
            "96/96 - 1s - loss: 0.0572 - accuracy: 0.9823 - val_loss: 0.2010 - val_accuracy: 0.9750 - 549ms/epoch - 6ms/step\n",
            "Epoch 58/90\n",
            "96/96 - 1s - loss: 0.0409 - accuracy: 0.9875 - val_loss: 0.2088 - val_accuracy: 0.9792 - 550ms/epoch - 6ms/step\n",
            "Epoch 59/90\n",
            "96/96 - 1s - loss: 0.0396 - accuracy: 0.9896 - val_loss: 0.3911 - val_accuracy: 0.9375 - 564ms/epoch - 6ms/step\n",
            "Epoch 60/90\n",
            "96/96 - 1s - loss: 0.0655 - accuracy: 0.9802 - val_loss: 0.2753 - val_accuracy: 0.9667 - 556ms/epoch - 6ms/step\n",
            "Epoch 61/90\n",
            "96/96 - 1s - loss: 0.0478 - accuracy: 0.9927 - val_loss: 0.2879 - val_accuracy: 0.9708 - 557ms/epoch - 6ms/step\n",
            "Epoch 62/90\n",
            "96/96 - 1s - loss: 0.0345 - accuracy: 0.9885 - val_loss: 0.2619 - val_accuracy: 0.9583 - 552ms/epoch - 6ms/step\n",
            "Epoch 63/90\n",
            "96/96 - 1s - loss: 0.0375 - accuracy: 0.9885 - val_loss: 0.3253 - val_accuracy: 0.9542 - 558ms/epoch - 6ms/step\n",
            "Epoch 64/90\n",
            "96/96 - 1s - loss: 0.0436 - accuracy: 0.9885 - val_loss: 0.2692 - val_accuracy: 0.9667 - 549ms/epoch - 6ms/step\n",
            "Epoch 65/90\n",
            "96/96 - 1s - loss: 0.0716 - accuracy: 0.9844 - val_loss: 0.2475 - val_accuracy: 0.9708 - 547ms/epoch - 6ms/step\n",
            "Epoch 66/90\n",
            "96/96 - 1s - loss: 0.0557 - accuracy: 0.9844 - val_loss: 0.3032 - val_accuracy: 0.9625 - 641ms/epoch - 7ms/step\n",
            "Epoch 67/90\n",
            "96/96 - 1s - loss: 0.0364 - accuracy: 0.9906 - val_loss: 0.2485 - val_accuracy: 0.9750 - 549ms/epoch - 6ms/step\n",
            "Epoch 68/90\n",
            "96/96 - 1s - loss: 0.0520 - accuracy: 0.9823 - val_loss: 0.2510 - val_accuracy: 0.9667 - 554ms/epoch - 6ms/step\n",
            "Epoch 69/90\n",
            "96/96 - 1s - loss: 0.0205 - accuracy: 0.9948 - val_loss: 0.2715 - val_accuracy: 0.9708 - 563ms/epoch - 6ms/step\n",
            "Epoch 70/90\n",
            "96/96 - 1s - loss: 0.0155 - accuracy: 0.9948 - val_loss: 0.3100 - val_accuracy: 0.9667 - 557ms/epoch - 6ms/step\n",
            "Epoch 71/90\n",
            "96/96 - 1s - loss: 0.0587 - accuracy: 0.9927 - val_loss: 0.3007 - val_accuracy: 0.9667 - 550ms/epoch - 6ms/step\n",
            "Epoch 72/90\n",
            "96/96 - 1s - loss: 0.0270 - accuracy: 0.9917 - val_loss: 0.4310 - val_accuracy: 0.9625 - 542ms/epoch - 6ms/step\n",
            "Epoch 73/90\n",
            "96/96 - 1s - loss: 0.0701 - accuracy: 0.9865 - val_loss: 0.3393 - val_accuracy: 0.9583 - 532ms/epoch - 6ms/step\n",
            "Epoch 74/90\n",
            "96/96 - 1s - loss: 0.0655 - accuracy: 0.9865 - val_loss: 0.2130 - val_accuracy: 0.9792 - 591ms/epoch - 6ms/step\n",
            "Epoch 75/90\n",
            "96/96 - 1s - loss: 0.0551 - accuracy: 0.9844 - val_loss: 0.3149 - val_accuracy: 0.9667 - 558ms/epoch - 6ms/step\n",
            "Epoch 76/90\n",
            "96/96 - 1s - loss: 0.0230 - accuracy: 0.9937 - val_loss: 0.3264 - val_accuracy: 0.9542 - 547ms/epoch - 6ms/step\n",
            "Epoch 77/90\n",
            "96/96 - 1s - loss: 0.0249 - accuracy: 0.9896 - val_loss: 0.2867 - val_accuracy: 0.9792 - 558ms/epoch - 6ms/step\n",
            "Epoch 78/90\n",
            "96/96 - 1s - loss: 0.0413 - accuracy: 0.9927 - val_loss: 0.4083 - val_accuracy: 0.9542 - 556ms/epoch - 6ms/step\n",
            "Epoch 79/90\n",
            "96/96 - 1s - loss: 0.0266 - accuracy: 0.9917 - val_loss: 0.3173 - val_accuracy: 0.9792 - 557ms/epoch - 6ms/step\n",
            "Epoch 80/90\n",
            "96/96 - 1s - loss: 0.0263 - accuracy: 0.9937 - val_loss: 0.3376 - val_accuracy: 0.9625 - 555ms/epoch - 6ms/step\n",
            "Epoch 81/90\n",
            "96/96 - 1s - loss: 0.0287 - accuracy: 0.9885 - val_loss: 0.3516 - val_accuracy: 0.9625 - 541ms/epoch - 6ms/step\n",
            "Epoch 82/90\n",
            "96/96 - 1s - loss: 0.0248 - accuracy: 0.9937 - val_loss: 0.4573 - val_accuracy: 0.9458 - 547ms/epoch - 6ms/step\n",
            "Epoch 83/90\n",
            "96/96 - 1s - loss: 0.0262 - accuracy: 0.9927 - val_loss: 0.3166 - val_accuracy: 0.9708 - 542ms/epoch - 6ms/step\n",
            "Epoch 84/90\n",
            "96/96 - 1s - loss: 0.0686 - accuracy: 0.9865 - val_loss: 0.2724 - val_accuracy: 0.9667 - 536ms/epoch - 6ms/step\n",
            "Epoch 85/90\n",
            "96/96 - 1s - loss: 0.0430 - accuracy: 0.9896 - val_loss: 0.3353 - val_accuracy: 0.9667 - 548ms/epoch - 6ms/step\n",
            "Epoch 86/90\n",
            "96/96 - 1s - loss: 0.0515 - accuracy: 0.9865 - val_loss: 0.3969 - val_accuracy: 0.9667 - 557ms/epoch - 6ms/step\n",
            "Epoch 87/90\n",
            "96/96 - 1s - loss: 0.0401 - accuracy: 0.9906 - val_loss: 0.3449 - val_accuracy: 0.9625 - 556ms/epoch - 6ms/step\n",
            "Epoch 88/90\n",
            "96/96 - 1s - loss: 0.0289 - accuracy: 0.9917 - val_loss: 0.3323 - val_accuracy: 0.9708 - 570ms/epoch - 6ms/step\n",
            "Epoch 89/90\n",
            "96/96 - 1s - loss: 0.0463 - accuracy: 0.9906 - val_loss: 0.2750 - val_accuracy: 0.9750 - 550ms/epoch - 6ms/step\n",
            "Epoch 90/90\n",
            "96/96 - 1s - loss: 0.0380 - accuracy: 0.9896 - val_loss: 0.3997 - val_accuracy: 0.9667 - 567ms/epoch - 6ms/step\n"
          ]
        },
        {
          "output_type": "display_data",
          "data": {
            "text/plain": [
              "<Figure size 432x288 with 1 Axes>"
            ],
            "image/png": "[encoded data removed]"
          },
          "metadata": {
            "needs_background": "light"
          }
        }
      ]
    }
  ]
}